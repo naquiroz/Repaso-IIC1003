{
 "cells": [
  {
   "cell_type": "markdown",
   "metadata": {},
   "source": [
    "# Resumen IIC-1103\n",
    "\n",
    "***Por: Alfonso Irarrázaval, Daniel Leal, Nicolás Quiroz.***\n",
    "\n",
    "----\n",
    "\n",
    "# Recursión\n",
    "\n",
    "Se habla de recursion, o mas bien, de un elemento recursivo, cuando la definicion de este depende de su misma definicion.\n",
    "\n",
    "Algunos de ustedes ya habran visto ejemplos de recursividad en otros ramos o materias, pero no necesariamente lo han visto por definicion como recursivos\n",
    "\n",
    "Algunos de los ejemplos mas comunes son:\n",
    "\n",
    "* Numeros Factoriales\n",
    "* Series recursivas (eg. Serie de Fibonacci)\n",
    "\n",
    "![rec](./imgs/fixing_problems.webp)\n",
    "\n",
    "En el caso de los numeros factoriales:\n",
    "\n",
    "n! = n \\* (n - 1)!\n",
    "\n",
    "Pero a su vez (n - 1)! = (n - 1) * (n - 2)!, entonces reemplazando:\n",
    "\n",
    "n! = n \\* (n - 1) \\* (n - 2)!\n",
    "\n",
    "n! = n \\* (n - 1) \\* (n - 2) \\* (n - 3)!\n",
    "\n",
    "y en general:\n",
    "\n",
    "n! = n \\* (n - 1) \\* (n - 2) \\* (n - 3) \\* ... \\* 2 \\* 1\n",
    "\n",
    "Se ve de manera directa que para obtener n! debemos saber de antemano el valor de (n - 1)!, el cual a su vez depende \n",
    "de (n - 2)!, el cual a su vez depende de (n - 3)!  y asi sucesivamente, hasta que llegamos al 0! (recordar que 0! = 1).\n",
    "\n",
    "Aqui hemos llegado a una parte importante de la recursividad: el __caso base__\n",
    "\n",
    "El __caso base__ se refiere a ese caso, el cual depende completamente de lo que se busca (puede ser un numero, el largo de una lista o string, etc..), en el que la recursion se detiene y comienza a \"devolverse\" (mas adelante veremos a que se refiere ese término)\n",
    "\n",
    "Volviendo al ejemplo de los numeros factoriales, por definicion estos residen en los numeros cardinales, por lo que el minimo valor al que se puede llegar corresponde al 0, después estamos en un rango donde no estan definidos por lo cual no podemos entrar, en otras palabras, nuestro caso base es el 0 (notese que tambien podria ser 1, ya que 1! = 0! = 1).\n",
    "\n",
    "Todo esto se traduce en la siguiente funcion para los numeros factoriales:"
   ]
  },
  {
   "cell_type": "code",
   "execution_count": 6,
   "metadata": {},
   "outputs": [
    {
     "name": "stdout",
     "output_type": "stream",
     "text": [
      "5! = 5 * 4!\n",
      "4! = 4 * 3!\n",
      "3! = 3 * 2!\n",
      "2! = 2 * 1!\n",
      "1! = 1 * 0!\n",
      "llegamos al caso base, nos empezamos a devolver!\n",
      "1! = 1 * 1\n",
      "2! = 2 * 1\n",
      "3! = 3 * 2\n",
      "4! = 4 * 6\n",
      "5! = 5 * 24\n"
     ]
    },
    {
     "data": {
      "text/plain": [
       "120"
      ]
     },
     "execution_count": 6,
     "metadata": {},
     "output_type": "execute_result"
    }
   ],
   "source": [
    "#Partimos definiendo la funcion como cualquier otra, donde recibirá el numero del cual queremos obtener el factorial\n",
    "def factorial(n):\n",
    "    #Lo primero que previsamos es si el numero ingresado es el CASO BASE, que en este caso seria 0\n",
    "    if n == 0:\n",
    "        #Cuando el numero es 0, retornamos el \n",
    "        print(\"llegamos al caso base, nos empezamos a devolver!\")\n",
    "        return 1\n",
    "    #en cualquier otro caso, queremos obtener n * (n - 1)!\n",
    "    else:\n",
    "        print(\"{}! = {} * {}!\".format(n, n, n - 1))\n",
    "        factorial_siguiente = factorial(n - 1)\n",
    "        print(\"{}! = {} * {}\".format(n, n, factorial_siguiente))\n",
    "        return n * factorial_siguiente\n",
    "\n",
    "factorial(5)"
   ]
  },
  {
   "cell_type": "markdown",
   "metadata": {},
   "source": [
    "Este poroceso en el que se \"devuelve\" se refleja de la siguiente manera:\n",
    "\n",
    "https://files.realpython.com/media/stack.9c4ba62929cf.gif"
   ]
  },
  {
   "cell_type": "markdown",
   "metadata": {},
   "source": [
    "Ahora llevemos la recursividad a la serie de fibonacci:\n",
    "\n",
    "Recordar que el n-esimo numero de fibonacci se define como:\n",
    "\n",
    "> a<sub>n</sub> = a<sub>n - 1</sub> + a<sub>n - 2</sub>\n",
    "\n",
    "> con a<sub>0</sub> = 1 y a<sub>1</sub> = 1\n",
    "\n",
    "Entonces es intuitivo que en este caso tenemos __dos casos base__\n",
    "\n",
    "Ahora llevemoslo a la funcion:"
   ]
  },
  {
   "cell_type": "code",
   "execution_count": 8,
   "metadata": {},
   "outputs": [
    {
     "data": {
      "text/plain": [
       "8"
      ]
     },
     "execution_count": 8,
     "metadata": {},
     "output_type": "execute_result"
    }
   ],
   "source": [
    "def nesimo_fibonacci(n):\n",
    "    #Revisamos si estamos en un caso base:\n",
    "    if n == 0 or n == 1:\n",
    "        return 1\n",
    "    #si no es el caso, hacmos la suma:\n",
    "    else:\n",
    "        #obtenemos el n-1-esimo fibonacci y el n-2-esimo fibonacci y los sumamos\n",
    "        precesor = nesimo_fibonacci(n - 1)\n",
    "        anteprecesor = nesimo_fibonacci(n - 2)\n",
    "        return precesor + anteprecesor\n",
    "\n",
    "nesimo_fibonacci(5)"
   ]
  },
  {
   "cell_type": "markdown",
   "metadata": {},
   "source": [
    "----\n",
    "\n",
    "# Backtracking\n",
    "\n",
    "Muchas veces podemos necesitar encontrar todos los __caminos__ que hay entre a y b de forma recursiva, por lo que mientras nosotros avanzamos en el camino, debemos ir __guardando__ todos los __nodos__ por los que he pasado, y cuando se llega a una posible solucion de el problema, guardar esa solucion aparte. \n",
    "\n",
    "Es importante señalar que a medida de que avanzamos por los nodos, el camino recorrido hasta ese punto corresponde a una __solucion parcial__, mientras que cuando se llega a el resultado deseado, se llega a una __solucion del problema__\n",
    "\n",
    "Por ejemplo:\n",
    "\n",
    "![rec](imgs/arbol.gif \"\")\n"
   ]
  },
  {
   "cell_type": "markdown",
   "metadata": {},
   "source": [
    "Lo que vemos aqui son un conjunto de nodos en forma de árbol (se llama arbol porque parte de una _raiz_ y de ella salen nodos en forma de _ramas_ hasta llegar a las _hojas_, que son aquellos nodos de término, o de donde no salen mas ramas). Supongamos que queremos recorrer este arbol y obtener todos los caminos hasta las hojas, lo que se busca es obtener los caminos:\n",
    "\n",
    "2 - 7 - 2\n",
    "\n",
    "2 - 6 - 5\n",
    "\n",
    "2 - 6 - 11\n",
    "\n",
    "2 - 5 - 9 - 4\n",
    "\n",
    "Esto se logra de manera __recursiva__, guardando donde hemos estado.\n",
    "\n",
    "Tambien se puede observar que, por ejemplo, 2 - 5 - 9 corresponde a una solucion parcial de el problema, ya que si bien es un camino posible en nuestro arbol, no es el camino final que buscamos."
   ]
  },
  {
   "cell_type": "markdown",
   "metadata": {},
   "source": [
    "Veamos un ejemplo mas concreto:\n",
    "\n",
    "__Pregunta 4 Examen 2016 - 2_\n",
    "\n",
    "![image.png](attachment:image.png)\n",
    "![image.png](attachment:image.png)"
   ]
  },
  {
   "cell_type": "markdown",
   "metadata": {},
   "source": [
    "\n",
    "Lo que se pide entonces, es encontrar todas las combinaciones de ejercicios que cumplan con los requisitos dados, un __posible__ codigo sería:\n"
   ]
  },
  {
   "cell_type": "code",
   "execution_count": 14,
   "metadata": {},
   "outputs": [
    {
     "name": "stdout",
     "output_type": "stream",
     "text": [
      "[['Don Yandran', 'O', 90], ['Substrings', 'L', 75], ['Viajes', 'R', 60]]\n",
      "[['Don Yandran', 'O', 90], ['Viajes', 'R', 60], ['Substrings', 'L', 75]]\n",
      "[['Substrings', 'L', 75], ['Don Yandran', 'O', 90], ['Viajes', 'R', 60]]\n",
      "[['Substrings', 'L', 75], ['Castellers', 'O', 70], ['Diofanticas', 'R', 70]]\n",
      "[['Substrings', 'L', 75], ['Viajes', 'R', 60], ['Don Yandran', 'O', 90]]\n",
      "[['Substrings', 'L', 75], ['Diofanticas', 'R', 70], ['Castellers', 'O', 70]]\n",
      "[['Castellers', 'O', 70], ['Substrings', 'L', 75], ['Diofanticas', 'R', 70]]\n",
      "[['Castellers', 'O', 70], ['Diofanticas', 'R', 70], ['Substrings', 'L', 75]]\n",
      "[['Viajes', 'R', 60], ['Don Yandran', 'O', 90], ['Substrings', 'L', 75]]\n",
      "[['Viajes', 'R', 60], ['Substrings', 'L', 75], ['Don Yandran', 'O', 90]]\n",
      "[['Diofanticas', 'R', 70], ['Substrings', 'L', 75], ['Castellers', 'O', 70]]\n",
      "[['Diofanticas', 'R', 70], ['Castellers', 'O', 70], ['Substrings', 'L', 75]]\n"
     ]
    }
   ],
   "source": [
    "import copy\n",
    "\n",
    "### Cuando llamamos a nuestra funcion, le damos como parametros las soluciones parciales y soluciones finales que tenemos\n",
    "### Hay que recordar que si bien en un principio estas van a estar vacias, a medida que avanzamos por los nodos estas iran\n",
    "### tomando valores, por lo que pueden cambiar para recursion. (si se hace de esta forma, siempre hay que incluir estos dos \n",
    "### parametros)\n",
    "\n",
    "### Ademas le entregamos parametros que son relacionados con el problema en si (problemas, sup, inf)\n",
    "def generar(solucion_parcial, soluciones, problemas, sup, inf):\n",
    "    \n",
    "    #reseteamos la dificultad y los tipos de preguntas que hay en la solucion parcial para calcularla cuando se llega a cada nodo\n",
    "    \n",
    "    dificultad = 0\n",
    "    tipos_preguntas = []\n",
    "    \n",
    "    #definimos una variable que me diga si lo que llevamos recorrido contiene una pregunta de tipo \"O\", \"R\" y \"l\"\n",
    "    \n",
    "    contiene_todo_tipo_de_preguntas = False\n",
    "    \n",
    "    # Para nuestra solucion parcial, calculamos la suma de las dificultades de todas las preguntas que tiene, y ademas \n",
    "    # agregamos a nuestra lista tipo_preguntas los tipos de pregunta de cada una de las preguntas de nuestra solucion parcial\n",
    "    # recordatorio: cada pregunta viene en formato de lista de la forma [nombre, tipo, dificultad]\n",
    "    \n",
    "    for i in range(len(solucion_parcial)):\n",
    "        #sumamos la dificultad de cada pregunta\n",
    "        dificultad += int(solucion_parcial[i][2])\n",
    "        #agregamos el tipo de preguntas a nuestra lista de tipos\n",
    "        tipos_preguntas.append(solucion_parcial[i][1])\n",
    "        \n",
    "    # Con esta lista de tipos, revisamos si contiene todos los tipos de preguntas, si lo hace, cambiamos nuestra variable \n",
    "    # que lo indica para tener esa informacion guardada\n",
    "    \n",
    "    if \"O\" in tipos_preguntas and \"R\" in tipos_preguntas and \"L\" in tipos_preguntas:\n",
    "        #cambiamos el valor de la variable\n",
    "        contiene_todo_tipo_de_preguntas = True\n",
    "    \n",
    "    # Como una prueba no puede tener mas de 3 preguntas, su nuestra solucion parcial tiene mas de 3 preguntas retornamos y \n",
    "    # no hacemos nada con ella\n",
    "    if len(solucion_parcial) > 3:\n",
    "        return\n",
    "    \n",
    "    # Pero si nuestra solucion parcial es de largo 3, la suma de las dificultades de sus preguntas esta entre inf y sup,\n",
    "    # y ademas cumple con que tiene todo tipo de preguntas, entonces estamos en el caso de una solucion final (recordar \n",
    "    # que pueden ser muchas)\n",
    "    if len(solucion_parcial) == 3 and (inf <= dificultad <= sup) and contiene_todo_tipo_de_preguntas == True:\n",
    "        # el copy.copy(algo) nos permite trabajar con una nueva lista que es exactamente igual a la anterior, pero que no \n",
    "        # le afectara en nada a la original si cambio algo \n",
    "        una_solucion_final = copy.copy(solucion_parcial)\n",
    "        \n",
    "        #finalmente agregamos esta solucion final a mi lista con todas las soluciones finales\n",
    "        soluciones.append(una_solucion_final)\n",
    "        \n",
    "    # Esta corresponde a la parte recursiva de nuestra funcion, por cada opcion de siguiente problema a agregar se agrega a la \n",
    "    # solucion parcial y se calcula el generar con estos nuevos solucion_parcial y soluciones\n",
    "    for opcion in problemas:\n",
    "        # primero se agregara la opcion a la solucion parcial\n",
    "        solucion_parcial.append(opcion)\n",
    "        # ahora se le aplica la ecursiona los nuevos solucion_parcial y soluciones\n",
    "        generar(solucion_parcial, soluciones, problemas, sup, inf)\n",
    "        # finalmente se saca el ultimo elemento agregado para poder agregar la siguiente opcion sin problemas\n",
    "        solucion_parcial.pop()\n",
    "    #finalmente retornamos nuestra lista con todas las soluciones finales\n",
    "    return soluciones\n",
    "\n",
    "problemas = [[\"Don Yandran\", \"O\",90], [\"Substrings\", \"L\",75],\n",
    "[\"Castellers\", \"O\",70], [\"ADN\", \"L\",30],\n",
    "[\"UCarpool\", \"O\",50], [\"Examenes\", \"R\",10],\n",
    "[\"Viajes\", \"R\",60], [\"Diofanticas\", \"R\",70],\n",
    "[\"Baile Chino\", \"L\",30], [\"Monumentos\", \"O\",40],\n",
    "[\"Robot\", \"L\",30]]\n",
    "sup = 230\n",
    "inf = 210\n",
    "\n",
    "#recordar que en un principio las dos listas comienzan vacias\n",
    "lista_soluciones = generar([], [], problemas, sup, inf)\n",
    "for elem in lista_soluciones:\n",
    "    print(elem)\n"
   ]
  },
  {
   "cell_type": "markdown",
   "metadata": {},
   "source": [
    "----\n",
    "### NOTAS IMPORTANTES\n",
    "\n",
    "* Para recursion y backtracking (y programacion en general), no existe una unica forma o una formula exacta para resolver un ejercicio\n",
    "* Siempre recordar el __caso base__, ya que sin el nuestra recursion nunca va a parar y su computador puede explotar (okno)\n",
    "* En backtracking es importante ir guardando el progreso y  todas aquellas soluciones que cumplen el objetivo final por separado, y pasarlas durante la recursion\n",
    "* Para el examen lleven ojala un chocolate y agua porque es largo"
   ]
  },
  {
   "cell_type": "markdown",
   "metadata": {},
   "source": [
    "----\n",
    "### Otros ejercicios\n",
    "\n",
    "Aca se dejara otro ejemplo de examen que incluia recursion y backtracking para que lo hagan y revisen:\n",
    "\n",
    "\n",
    "Pregunta 4 Examen 2015 - 2\n",
    "\n",
    "![back1](imgs/pregunta_backtracking.png \"\")"
   ]
  },
  {
   "cell_type": "markdown",
   "metadata": {},
   "source": [
    "Una __posible__ solucion de a):"
   ]
  },
  {
   "cell_type": "code",
   "execution_count": 20,
   "metadata": {
    "scrolled": true
   },
   "outputs": [
    {
     "name": "stdout",
     "output_type": "stream",
     "text": [
      "abcdefgh\n",
      "almoruz\n"
     ]
    }
   ],
   "source": [
    "def mezclar(s1, s2):\n",
    "    if len(s1) == 0 and len(s2) == 0:\n",
    "        return ''\n",
    "    else:\n",
    "        if len(s1) == 0:\n",
    "            return s2[0] + mezclar(s1, s2[1:])\n",
    "        elif len(s2) == 0:\n",
    "            return s1[0] + mezclar(s1[1:], s2)\n",
    "        else:\n",
    "            if s1[0] < s2[0]:\n",
    "                return s1[0] + mezclar(s1[1:], s2)\n",
    "            else:\n",
    "                return s2[0] + mezclar(s1, s2[1:])\n",
    "\n",
    "print(mezclar(\"aceg\", \"bdfh\"))\n",
    "print(mezclar(\"amor\", \"luz\"))"
   ]
  },
  {
   "cell_type": "markdown",
   "metadata": {},
   "source": [
    "Una __posible__ solucion para b)"
   ]
  },
  {
   "cell_type": "code",
   "execution_count": 22,
   "metadata": {},
   "outputs": [
    {
     "data": {
      "text/plain": [
       "['000', '001', '010', '011', '100', '101', '110', '111']"
      ]
     },
     "execution_count": 22,
     "metadata": {},
     "output_type": "execute_result"
    }
   ],
   "source": [
    "def calcular_strings(soluciones, solucion_parcial, n):\n",
    "    if len(solucion_parcial) == int(n):\n",
    "        solucion_final = solucion_parcial.copy()\n",
    "        aux = ''.join(solucion_final)\n",
    "        if not (aux in soluciones):\n",
    "            soluciones.append(aux)\n",
    "        return\n",
    "\n",
    "    for opcion in ['0', '1']:\n",
    "        solucion_parcial.append(opcion)\n",
    "        calcular_strings(soluciones, solucion_parcial, n)\n",
    "        solucion_parcial.pop()\n",
    "    return soluciones\n",
    "\n",
    "\n",
    "for i in range \n",
    "print(calcular_strings([], [], 3))"
   ]
  },
  {
   "cell_type": "code",
   "execution_count": null,
   "metadata": {},
   "outputs": [],
   "source": []
  }
 ],
 "metadata": {
  "kernelspec": {
   "display_name": "Python 3",
   "language": "python",
   "name": "python3"
  },
  "language_info": {
   "codemirror_mode": {
    "name": "ipython",
    "version": 3
   },
   "file_extension": ".py",
   "mimetype": "text/x-python",
   "name": "python",
   "nbconvert_exporter": "python",
   "pygments_lexer": "ipython3",
   "version": "3.6.4"
  }
 },
 "nbformat": 4,
 "nbformat_minor": 2
}
