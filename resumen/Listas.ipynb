{
 "cells": [
  {
   "cell_type": "markdown",
   "metadata": {},
   "source": [
    "# Resumen IIC-1103\n",
    "\n",
    "***Por: Nicolás Quiroz, Daniel Leal, Alfonso Irarrázaval.***\n",
    "\n",
    "----\n",
    "\n",
    "# Listas\n",
    "\n",
    "Las listas son una forma de guardar un conjunto de valores python.\n",
    "\n",
    "*Ejemplo*:"
   ]
  },
  {
   "cell_type": "code",
   "execution_count": 30,
   "metadata": {},
   "outputs": [],
   "source": [
    "lista_supermercado = ['Huevos', 'Leche', 'Cereal', 'Harina']"
   ]
  },
  {
   "cell_type": "markdown",
   "metadata": {},
   "source": [
    "\n",
    "Lo anterior corresponde a un conjunto de `strings` en una lista de supermercado.\n",
    "\n",
    "#### ¿ Puedo guardar un *conjunto* de listas?\n",
    "\n",
    "Si ! Y es bastante facil. Supongamos tienes una generacion de un colegio, con distintos alumnos, por curso:"
   ]
  },
  {
   "cell_type": "code",
   "execution_count": 31,
   "metadata": {},
   "outputs": [],
   "source": [
    "generacion_2017 = [['Nicolas Quiroz', 'Benil Wakas', 'Jorge Muñoz'],\n",
    "                   ['Ignacio Sanchez','Claudio Rivera', 'Ruben Alvarado'],\n",
    "                  ['Cristian Ruz', 'Marcos Sepúlveda' , 'Daniel Leal']]"
   ]
  },
  {
   "cell_type": "markdown",
   "metadata": {},
   "source": [
    "\n",
    "Como ven, para guardar listas dentro de listas, solo basta escribirlas separadas por una coma. Una forma que la gente suele ver las listas de listas, es como una matriz donde cada fila es una lista y cada columna es un elemento de cada lista.\n",
    "\n",
    "\n",
    "\n",
    "***Tip*** : **Las listas pueden guardar muchos tipos de cosas a a la vez!  (strings, otras listas, ints en una misma lista)**\n",
    "\n",
    "#### ¿Qué puedo hacer con las listas (y, por ende, listas de listas)?\n",
    "\n",
    "Muchas cosas, asi que resumiremos las mas esenciales.\n",
    "\n",
    "- Agregar elementos"
   ]
  },
  {
   "cell_type": "code",
   "execution_count": 32,
   "metadata": {},
   "outputs": [
    {
     "name": "stdout",
     "output_type": "stream",
     "text": [
      "['Huevos', 'Leche', 'Cereal', 'Harina', 'manjar']\n"
     ]
    }
   ],
   "source": [
    "lista_supermercado.append('manjar')\n",
    "print(lista_supermercado)"
   ]
  },
  {
   "cell_type": "markdown",
   "metadata": {},
   "source": [
    "- Borrar elementos"
   ]
  },
  {
   "cell_type": "code",
   "execution_count": 33,
   "metadata": {},
   "outputs": [
    {
     "name": "stdout",
     "output_type": "stream",
     "text": [
      "['Leche', 'Cereal', 'Harina', 'manjar']\n"
     ]
    }
   ],
   "source": [
    "lista_supermercado.remove('Huevos')\n",
    "print(lista_supermercado)"
   ]
  },
  {
   "cell_type": "markdown",
   "metadata": {},
   "source": [
    "- Sacar y retornar elementos"
   ]
  },
  {
   "cell_type": "code",
   "execution_count": 34,
   "metadata": {},
   "outputs": [
    {
     "name": "stdout",
     "output_type": "stream",
     "text": [
      "Extraido: ['Ignacio Sanchez', 'Claudio Rivera', 'Daniel Vidal'] \n",
      "Generacion: [['Nicolas Quiroz', 'Benil Wakas', 'Jorge Muñoz'], ['Cristian Ruz', 'Marcos Sepúlveda', 'Daniel Leal']]\n"
     ]
    }
   ],
   "source": [
    "curso_a = generacion_2017.pop(1) # Si no pongo un numero, por defecto es el ultimo elemento de la lista asi que puedo poner otras cosas!\n",
    "print('Extraido:', curso_a, '\\nGeneracion:', generacion_2017)"
   ]
  },
  {
   "cell_type": "markdown",
   "metadata": {},
   "source": [
    "- Sumar listas"
   ]
  },
  {
   "cell_type": "code",
   "execution_count": 35,
   "metadata": {},
   "outputs": [
    {
     "name": "stdout",
     "output_type": "stream",
     "text": [
      "['Jose Manuel', 'Antonia', 'Alfonso', 'Florencia']\n"
     ]
    }
   ],
   "source": [
    "abuelos_paternos = ['Jose Manuel', 'Antonia']\n",
    "abuelos_maternos = ['Alfonso', 'Florencia']\n",
    "abuelos = abuelos_paternos + abuelos_maternos \n",
    "print(abuelos)"
   ]
  },
  {
   "cell_type": "markdown",
   "metadata": {},
   "source": [
    "- Recorrerlas"
   ]
  },
  {
   "cell_type": "code",
   "execution_count": 43,
   "metadata": {},
   "outputs": [
    {
     "name": "stdout",
     "output_type": "stream",
     "text": [
      "Lista inicial ['Leche', 'Cereal', 'Harina']\n",
      " ===== While ====\n",
      "Harina comprado!\n",
      "Te quedan en la lista: ['Leche', 'Cereal']\n",
      "Cereal comprado!\n",
      "Te quedan en la lista: ['Leche']\n",
      "Leche comprado!\n",
      "Te quedan en la lista: []\n",
      "===== For each ====\n",
      "Leche comprado!\n",
      "Te quedan en la lista: ['Cereal', 'Harina']\n",
      "Harina comprado!\n",
      "Te quedan en la lista: ['Cereal']\n",
      "==== For i ===\n",
      "Indice 0\n",
      "Indice 1\n",
      "Indice 2\n"
     ]
    }
   ],
   "source": [
    "def comprar(producto, lista_super):\n",
    "    print(producto.capitalize(), \"comprado!\")\n",
    "    print('Te quedan en la lista:', lista_super)\n",
    "\n",
    "print('Lista inicial', lista_supermercado)\n",
    "# Ciclos while\n",
    "print(' ===== While ====')\n",
    "copia_while = lista_supermercado.copy()\n",
    "while copia_while: # Equivalente a decir while len(copia_while) > 0\n",
    "    comprar(copia_while.pop(), copia_while) # Sacando los ultimos de la lista primero\n",
    "\n",
    "print('===== For each ====')\n",
    "# Version 1: Por elemento en la lista\n",
    "copia_for1 = lista_supermercado.copy()\n",
    "for producto in copia_for1:\n",
    "    # Acá el producto es un string, un elemento de la lista\n",
    "    copia_for1.remove(producto)\n",
    "    comprar(producto, copia_for1)\n",
    "    \n",
    "# Version 2: Por indice en la lista\n",
    "print('==== For i ===')\n",
    "copia_for2 = lista_supermercado.copy()\n",
    "for i in range(len(copia_for2)):\n",
    "    # Acá el i es un entero, indica el indice de la lista, partiendo de 0.\n",
    "    print('Indice', i)\n",
    "    # Aqui no los saco de la lista, por lo que sigue igual."
   ]
  },
  {
   "cell_type": "markdown",
   "metadata": {},
   "source": [
    "Oh no! Quedó un producto en la lista en el `For Each`!! Alguna idea de por qué sucede esto?\n",
    "\n",
    "Veamos que ocurre si saco productos de la lista con el `For i`"
   ]
  },
  {
   "cell_type": "code",
   "execution_count": 40,
   "metadata": {},
   "outputs": [
    {
     "name": "stdout",
     "output_type": "stream",
     "text": [
      "==== For i ===\n",
      "Leche comprado!\n",
      "Te quedan en la lista: ['Cereal', 'Harina']\n",
      "Harina comprado!\n",
      "Te quedan en la lista: ['Cereal']\n"
     ]
    },
    {
     "ename": "IndexError",
     "evalue": "pop index out of range",
     "output_type": "error",
     "traceback": [
      "\u001b[0;31m---------------------------------------------------------------------------\u001b[0m",
      "\u001b[0;31mIndexError\u001b[0m                                Traceback (most recent call last)",
      "\u001b[0;32m<ipython-input-40-a7c4572466ed>\u001b[0m in \u001b[0;36m<module>\u001b[0;34m()\u001b[0m\n\u001b[1;32m      3\u001b[0m \u001b[0;32mfor\u001b[0m \u001b[0mi\u001b[0m \u001b[0;32min\u001b[0m \u001b[0mrange\u001b[0m\u001b[0;34m(\u001b[0m\u001b[0mlen\u001b[0m\u001b[0;34m(\u001b[0m\u001b[0mcopia_for2\u001b[0m\u001b[0;34m)\u001b[0m\u001b[0;34m)\u001b[0m\u001b[0;34m:\u001b[0m\u001b[0;34m\u001b[0m\u001b[0m\n\u001b[1;32m      4\u001b[0m     \u001b[0;31m# Acá el i es un entero, indica el indice de la lista, partiendo de 0.\u001b[0m\u001b[0;34m\u001b[0m\u001b[0;34m\u001b[0m\u001b[0m\n\u001b[0;32m----> 5\u001b[0;31m     \u001b[0mcomprar\u001b[0m\u001b[0;34m(\u001b[0m\u001b[0mcopia_for2\u001b[0m\u001b[0;34m.\u001b[0m\u001b[0mpop\u001b[0m\u001b[0;34m(\u001b[0m\u001b[0mi\u001b[0m\u001b[0;34m)\u001b[0m\u001b[0;34m,\u001b[0m \u001b[0mcopia_for2\u001b[0m\u001b[0;34m)\u001b[0m\u001b[0;34m\u001b[0m\u001b[0m\n\u001b[0m\u001b[1;32m      6\u001b[0m     \u001b[0;31m# Aqui no los saco de la lista, por lo que sigue igual.\u001b[0m\u001b[0;34m\u001b[0m\u001b[0;34m\u001b[0m\u001b[0m\n",
      "\u001b[0;31mIndexError\u001b[0m: pop index out of range"
     ]
    }
   ],
   "source": [
    "print('==== For i ===')\n",
    "copia_for2 = lista_supermercado.copy()\n",
    "for i in range(len(copia_for2)):\n",
    "    # Acá el i es un entero, indica el indice de la lista, partiendo de 0.\n",
    "    comprar(copia_for2.pop(i), copia_for2)\n",
    "    # Aqui no los saco de la lista, por lo que sigue igual."
   ]
  },
  {
   "cell_type": "markdown",
   "metadata": {},
   "source": [
    "Ha ocurrido un error! Por qué?\n",
    "\n",
    "Si bien en ambos for (`For each`, `For i`) ocurren problemas distintos, la razon es la misma. Cuando yo saco elementos de la lista, su tamaño va cambiando!\n",
    "\n",
    "- `For Each`:\n",
    "Aqui lo ocurre es que el `for` saca el elemento en la posicion que sigue de la lista **en su estado actual** o sea, lo que ocurre en el for:\n",
    "    1. Saco el elemento 0 -> 'Leche', la lista ahora es ['Cereal', 'Harina'], próximo índice: 1\n",
    "    2. Saco el elemento 1 **pero** de la lista ['Cereal', 'Harina'], o sea -> 'Harina' 😱\n",
    "- `For i`:\n",
    "Aqui lo ocurre es que el `for` trata de sacar el elemento en una posicion que ya no exist, o sea, lo que ocurre en el for:\n",
    "    1. Saco el elemento 0 -> 'Leche', la lista ahora es ['Cereal', 'Harina'], proximo indice: 1\n",
    "    2. Saco el elemento 1 **pero** de la lista ['Cereal', 'Harina'], o sea -> 'Harina' 😱, próximo índice: 2 😱😱\n",
    "    3. Trato de sacar el elemento 2 de la lista ['Cereal'] 😱😱😱😱 ERROR.\n"
   ]
  },
  {
   "cell_type": "markdown",
   "metadata": {},
   "source": [
    "##### Cuál es la lección de esto entonces?\n",
    "Los `while, foreach, y fori` tienen distintos funcionamientos, por lo que sirven para distintos casos. Aquí hay un resumen de cuando usar cada uno:\n",
    "- `while` con lista: Cuando quieres terminar cuando la lista este vacia.\n",
    "- `foreach` con lista: Cuando quieres recorrer los elementos **sin** alterarla\n",
    "- `fori` con lista: Cuando quieres recorrer varias listas de mismo largo, al mismo tiempo, o si me interesa el índice de cada elemento.\n",
    "\n",
    "Obviamente, estas son sugerencias, dado siempre se puede hacer lo mismo con cualquiera de los tres.\n",
    "\n",
    "### Otras cosas que puedes hacer con listas"
   ]
  },
  {
   "cell_type": "markdown",
   "metadata": {},
   "source": [
    "- Insertar elementos"
   ]
  },
  {
   "cell_type": "code",
   "execution_count": 45,
   "metadata": {},
   "outputs": [
    {
     "name": "stdout",
     "output_type": "stream",
     "text": [
      "['Leche', 'Cereal', 'Harina', 'queso', 'queso']\n"
     ]
    }
   ],
   "source": [
    "posicion = 3\n",
    "lista_supermercado.insert(posicion, \"queso\")\n",
    "print(lista_supermercado)"
   ]
  },
  {
   "cell_type": "markdown",
   "metadata": {},
   "source": [
    "- Slicing!"
   ]
  },
  {
   "cell_type": "code",
   "execution_count": 47,
   "metadata": {},
   "outputs": [
    {
     "name": "stdout",
     "output_type": "stream",
     "text": [
      "[['Nicolas Quiroz', 'Benil Wakas', 'Jorge Muñoz']]\n"
     ]
    }
   ],
   "source": [
    "a_y_b = generacion_2017[0:1]\n",
    "\n",
    "\n",
    "\"\"\"\n",
    "Otros utiles:\n",
    "[a:-1] -> todos menos el ultimo\n",
    "[:5] -> desde el comienzo hasta el 5\n",
    "[6:] -> desde el 6 hasta el final\n",
    "[:] -> todo\n",
    "[::-1] -> todo invertido.\n",
    "\"\"\"\n",
    "\n",
    "print(a_y_b)"
   ]
  }
 ],
 "metadata": {
  "kernelspec": {
   "display_name": "Python 3",
   "language": "python",
   "name": "python3"
  },
  "language_info": {
   "codemirror_mode": {
    "name": "ipython",
    "version": 3
   },
   "file_extension": ".py",
   "mimetype": "text/x-python",
   "name": "python",
   "nbconvert_exporter": "python",
   "pygments_lexer": "ipython3",
   "version": "3.6.4"
  }
 },
 "nbformat": 4,
 "nbformat_minor": 2
}
