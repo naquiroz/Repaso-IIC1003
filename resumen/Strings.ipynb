{
 "cells": [
  {
   "cell_type": "markdown",
   "metadata": {},
   "source": [
    "# Resumen IIC-1103\n",
    "\n",
    "*** Por: Nicolas Quiroz, Daniel Leal, Alfoso Irarrazaval.***\n",
    "\n",
    "----\n",
    "\n",
    "# Strings\n",
    "\n",
    "Strings es un contenido base en programación. Básicamente, un string es una forma de guardar cualquier cosa, generalmente palabras, en python. Se crea con `\"\"` al rededor\n",
    "de el valor"
   ]
  },
  {
   "cell_type": "code",
   "execution_count": 36,
   "metadata": {},
   "outputs": [],
   "source": [
    "numero = '1'\n",
    "palabra = 'Frase'\n",
    "frase = 'Esto es una palabra'\n",
    "parrafo = \"\"\" Esto es un string multilinea por las tres comillas al comienzo y al final. Tambien se puede hacer con\n",
    "commillas dobles y usando \\n (ojo que si imprimen esto asi, se a crear un salto de linea aqui tambien.)\n",
    "Se va a mostrar separado en lineas. Notarán que\n",
    "en algunos strings usamos comillas simples, y otras dobles. Para efectos de python, es lo mismo, pero\n",
    "se recomienda usar simples. \n",
    "\"\"\""
   ]
  },
  {
   "cell_type": "markdown",
   "metadata": {},
   "source": [
    "Puedes hacer varias cosas con los strings, como por ejemplo, sacar un caracter"
   ]
  },
  {
   "cell_type": "code",
   "execution_count": 3,
   "metadata": {},
   "outputs": [
    {
     "name": "stdout",
     "output_type": "stream",
     "text": [
      "F\n"
     ]
    }
   ],
   "source": [
    "print(palabra[0])"
   ]
  },
  {
   "cell_type": "markdown",
   "metadata": {},
   "source": [
    "O varios"
   ]
  },
  {
   "cell_type": "code",
   "execution_count": 5,
   "metadata": {},
   "outputs": [
    {
     "name": "stdout",
     "output_type": "stream",
     "text": [
      "to es \n"
     ]
    }
   ],
   "source": [
    "print(frase[2:8])"
   ]
  },
  {
   "cell_type": "markdown",
   "metadata": {},
   "source": [
    "Divirlo por algun simbolo, como el espacio:"
   ]
  },
  {
   "cell_type": "code",
   "execution_count": 7,
   "metadata": {},
   "outputs": [
    {
     "name": "stdout",
     "output_type": "stream",
     "text": [
      "['Esto', 'es', 'una', 'palabra']\n"
     ]
    }
   ],
   "source": [
    "print(frase.split(' '))"
   ]
  },
  {
   "cell_type": "markdown",
   "metadata": {},
   "source": [
    "O por lineas"
   ]
  },
  {
   "cell_type": "code",
   "execution_count": 12,
   "metadata": {},
   "outputs": [
    {
     "name": "stdout",
     "output_type": "stream",
     "text": [
      "[' Esto es un string multilinea por las tres comillas al comienzo y al final. Tambien se puede hacer con', 'commillas dobles y usando \\\\n', 'Se va a mostrar separado en lineas. Notarán que', 'en algunos strings usamos comillas simples, y otras dobles. Para efectos de python, es lo mismo, pero', 'se recomienda usar simples. ']\n"
     ]
    }
   ],
   "source": [
    "print(parrafo.splitlines())"
   ]
  },
  {
   "cell_type": "markdown",
   "metadata": {},
   "source": [
    "Tambien se pueden recorrer strings con `for` y `while`"
   ]
  },
  {
   "cell_type": "code",
   "execution_count": 15,
   "metadata": {},
   "outputs": [
    {
     "name": "stdout",
     "output_type": "stream",
     "text": [
      "F\n",
      "r\n",
      "a\n",
      "s\n",
      "e\n"
     ]
    }
   ],
   "source": [
    "for caracter in palabra:\n",
    "    print(caracter)"
   ]
  },
  {
   "cell_type": "code",
   "execution_count": 37,
   "metadata": {},
   "outputs": [
    {
     "name": "stdout",
     "output_type": "stream",
     "text": [
      "F\n",
      "r\n",
      "a\n",
      "s\n",
      "e\n"
     ]
    }
   ],
   "source": [
    "vieja = palabra\n",
    "while palabra: # Equivalente a while len(palabra) != 0\n",
    "    print(palabra[0])\n",
    "    palabra = palabra[1:] # Las strings son inmbutables, no puedo cambiarlas solo redefinir la variable. [1:] significa del uno en adelante\n",
    "palabra = vieja # Para que vuelva a ser un string no-vacio"
   ]
  },
  {
   "cell_type": "markdown",
   "metadata": {},
   "source": [
    "Y por ultimo podemos crear plantillas y formatearlas con valores."
   ]
  },
  {
   "cell_type": "code",
   "execution_count": 22,
   "metadata": {},
   "outputs": [
    {
     "name": "stdout",
     "output_type": "stream",
     "text": [
      "1 <- ahi se agrega algo >>2<< aca tambien, ojo que no tiene por que ser strings, puede ser cualquier cosa que se pueda hacer str(). 3\n"
     ]
    }
   ],
   "source": [
    "plantilla = '{} <- ahi se agrega algo >>{}<< aca tambien, ojo que no tiene por que ser strings, puede ser cualquier cosa que se pueda hacer str(). {}'\n",
    "print(plantilla.format(1,2,3,4))"
   ]
  },
  {
   "cell_type": "markdown",
   "metadata": {},
   "source": [
    "Algunos _slices_ utiles:"
   ]
  },
  {
   "cell_type": "code",
   "execution_count": 38,
   "metadata": {},
   "outputs": [
    {
     "name": "stdout",
     "output_type": "stream",
     "text": [
      "esarF\n",
      "Frase\n",
      "Fras\n",
      "rs\n"
     ]
    }
   ],
   "source": [
    "palabra_invertida = palabra[::-1]\n",
    "palabra_completa = palabra[::]\n",
    "palabra_menos_ultima = palabra[:-1]\n",
    "palabra_menos_pares = palabra[1::2]\n",
    "print(palabra_invertida)\n",
    "print(palabra_completa)\n",
    "print(palabra_menos_ultima)\n",
    "print(palabra_menos_pares)"
   ]
  },
  {
   "cell_type": "markdown",
   "metadata": {},
   "source": [
    "Algunos comandos utiles con strings"
   ]
  },
  {
   "cell_type": "code",
   "execution_count": 43,
   "metadata": {},
   "outputs": [
    {
     "name": "stdout",
     "output_type": "stream",
     "text": [
      "True False\n",
      "False True\n",
      "frase ESTO ES UNA PALABRA Frase\n"
     ]
    }
   ],
   "source": [
    "print(numero.isdigit(), palabra.isdigit())\n",
    "print(numero.isalpha(), palabra.isalpha())\n",
    "print(palabra.lower(), frase.upper(), palabra.capitalize())"
   ]
  }
 ],
 "metadata": {
  "kernelspec": {
   "display_name": "Python 3",
   "language": "python",
   "name": "python3"
  },
  "language_info": {
   "codemirror_mode": {
    "name": "ipython",
    "version": 3
   },
   "file_extension": ".py",
   "mimetype": "text/x-python",
   "name": "python",
   "nbconvert_exporter": "python",
   "pygments_lexer": "ipython3",
   "version": "3.6.4"
  }
 },
 "nbformat": 4,
 "nbformat_minor": 2
}
