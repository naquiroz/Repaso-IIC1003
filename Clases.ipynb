{
 "cells": [
  {
   "cell_type": "markdown",
   "metadata": {},
   "source": [
    "# Resumen IIC-1103\n",
    "\n",
    "***Por: Nicolas Quiroz, Daniel Leal.***\n",
    "\n",
    "----\n",
    "\n",
    "# Clases\n",
    "\n",
    "Las clases son quizás una de las cosas más potentes de python. La forma más facil de describirlo es que son una forma de modelar cómo se comporta de manera **general** un\n",
    "**tipo** de objeto.\n",
    "\n",
    "Ejemplos:\n",
    "Quiero modelar un condominio --> crear una clase `Casa` como se comporten las casas del condominio. Ésto, mas una lista de casas, modela un condominio.\n",
    "Quiero modelar un bus escolar --> crear clase `Chofer` (Aún cuando es solo un chofer por bus), crear una clase `Escolar`, y una clase `Bus`. `Bus` podria tener una lista de `escolares`, y un valor que guarde el chofer.\n",
    "\n",
    "Ahora veremos ejemplos.\n",
    "\n",
    "## Instancia vs Clase\n",
    "\n",
    "Algo que suele ser difícil de entender en programación, es la diferencia entre una instancia de una clase, y una clase. Una analogía útil es un plano de una casa y una casa. Una **Clase** es como un plano de una casa: define como se hace una casa, y que cosas tiene. Por otra parte, una **instancia** de una clase, y por tanto es una Casa en sí, un objeto del tipo `Casa`, y puedo crear varias casas iguales, a partir del mismo plano, la misma clase `Casa`. \n",
    "\n",
    "\n",
    "Veamos los ejemplos anteriores en código."
   ]
  },
  {
   "cell_type": "code",
   "execution_count": 6,
   "metadata": {},
   "outputs": [
    {
     "name": "stdout",
     "output_type": "stream",
     "text": [
      "Hemos creado una nueva casa!\n",
      "Hemos creado una nueva casa!\n",
      "Hemos creado una nueva casa!\n",
      "Hemos creado una nueva casa!\n",
      "Hemos creado una nueva casa!\n",
      "Hemos creado una nueva casa!\n",
      "Hemos creado una nueva casa!\n",
      "Hemos creado una nueva casa!\n",
      "Hemos creado una nueva casa!\n",
      "Hemos creado una nueva casa!\n",
      "La casa en Avenida San Joaquin 1 ahora está ocupada.\n",
      "La casa en Avenida San Joaquin 2 ahora está ocupada.\n",
      "La casa en Avenida San Joaquin 3 ahora está ocupada.\n",
      "La casa en Avenida San Joaquin 4 ahora está ocupada.\n",
      "La casa en Avenida San Joaquin 5 ahora está ocupada.\n"
     ]
    }
   ],
   "source": [
    "# Nota, no angustiarse si no entienden todo, abajo se explica en detalle, pero veanlo igual.\n",
    "class Casa:\n",
    "    def __init__(self, numero_casa, direccion):\n",
    "        self.numero = numero_casa\n",
    "        self.ubicacion = direccion\n",
    "        self.ocupada = False\n",
    "        print('Hemos creado una nueva casa!')\n",
    "    def tocar_puerta(self):\n",
    "        if self.ocupada:\n",
    "            print('Knock Knock!')\n",
    "        else:\n",
    "            print('No hay nadie.. :(')\n",
    "    def habitar(self):\n",
    "        if self.ocupada:\n",
    "            print('Esta casa ya está ocupada.')\n",
    "        else:\n",
    "            self.ocupada = True\n",
    "            print('La casa en', self.ubicacion, str(self.numero), 'ahora está ocupada.')\n",
    "\n",
    "# Creamos el condominio\n",
    "condominio = []\n",
    "for i in range(1, 11): # Creo 10 casas. Con numeros del 1 al 10\n",
    "    condominio.append(Casa(i, 'Avenida San Joaquin'))\n",
    "# Habitemos las 5 primeras casas\n",
    "\n",
    "habitadas = []\n",
    "\n",
    "for i in range(5):\n",
    "    condominio[i].habitar()\n",
    "    habitadas.append(condominio[i])"
   ]
  },
  {
   "cell_type": "markdown",
   "metadata": {},
   "source": [
    "En el ejemplo anterior se muestran hartas cosas:\n",
    "- `class Casa`: Creo el modelo o clase de una casa.\n",
    "- `def __init__(self, valor0, valor1, ... , valorN)`: Define que hacer cuando se crea una nueva instancia de la clase. **Siempre debe definirse**\n",
    "- `self.atributo = algo`: le doy propeidades o valores que son distintos en cada instancia de la clase, **pero** siguen un patron (ej. en la casa, `self.numero` es el numero de la casa, que cambia para cada casa, pero siempre es un numero)\n",
    "- `def metodo(self)`: corresponde a una función propia de clase. Toma los valores de la instancia, y hace cosas con estos. **importante**, siempre tiene un _`self`_, y si quiero agregar parametros al método, entonces me queda algo así: `def metodo(self, valor0, valor1, ... , valorN)`. Si no lo notaron __init__, es un metodo especial, pero es un metodo.\n",
    "\n",
    "**importante** Así como en el ejemplo uso métodos de la clase, para 5 instancias, puedo sacar atributos!\n"
   ]
  },
  {
   "cell_type": "code",
   "execution_count": 3,
   "metadata": {},
   "outputs": [
    {
     "name": "stdout",
     "output_type": "stream",
     "text": [
      "Habitada: True\n",
      "Habitada: True\n",
      "Habitada: True\n",
      "Habitada: True\n",
      "Habitada: True\n"
     ]
    }
   ],
   "source": [
    "for casa in habitadas:\n",
    "    print('Habitada:', casa.ocupada)"
   ]
  },
  {
   "cell_type": "markdown",
   "metadata": {},
   "source": [
    "Veamos que ocurre cuando tratamos de habitar casa ya ocupadas:"
   ]
  },
  {
   "cell_type": "code",
   "execution_count": 4,
   "metadata": {},
   "outputs": [
    {
     "name": "stdout",
     "output_type": "stream",
     "text": [
      "Esta casa ya está ocupada.\n",
      "Esta casa ya está ocupada.\n",
      "Esta casa ya está ocupada.\n",
      "Esta casa ya está ocupada.\n",
      "Esta casa ya está ocupada.\n"
     ]
    }
   ],
   "source": [
    "for casa in habitadas:\n",
    "    casa.habitar()"
   ]
  },
  {
   "cell_type": "markdown",
   "metadata": {},
   "source": [
    "Ahora mezclemos todo, habitando todas las casa desocupadas:"
   ]
  },
  {
   "cell_type": "code",
   "execution_count": 5,
   "metadata": {},
   "outputs": [
    {
     "name": "stdout",
     "output_type": "stream",
     "text": [
      "La casa en Avenida San Joaquin 6 ahora está ocupada.\n",
      "La casa en Avenida San Joaquin 7 ahora está ocupada.\n",
      "La casa en Avenida San Joaquin 8 ahora está ocupada.\n",
      "La casa en Avenida San Joaquin 9 ahora está ocupada.\n",
      "La casa en Avenida San Joaquin 10 ahora está ocupada.\n"
     ]
    }
   ],
   "source": [
    "for casa in condominio:\n",
    "    if not casa.ocupada:\n",
    "        casa.habitar()"
   ]
  },
  {
   "cell_type": "markdown",
   "metadata": {},
   "source": [
    "## Clases dentro de clases y metodos _dunder_ ó operadores"
   ]
  },
  {
   "cell_type": "markdown",
   "metadata": {},
   "source": [
    "Otra gran utilidad de las clases es usarlas dentro de otras. Sí, se puede, veamos el ejemplo del bus escolar."
   ]
  },
  {
   "cell_type": "code",
   "execution_count": 3,
   "metadata": {},
   "outputs": [
    {
     "name": "stdout",
     "output_type": "stream",
     "text": [
      "===Bus ciego===\n",
      "D 3 ahora esta dentro del bus!\n",
      "D 1 ahora esta dentro del bus!\n",
      "C 3 ahora esta dentro del bus!\n",
      "F 5 ahora esta dentro del bus!\n",
      "D 1 ahora esta dentro del bus!\n",
      "A 3 ahora esta dentro del bus!\n",
      "B 2 ahora esta dentro del bus!\n",
      "F 3 ahora esta dentro del bus!\n",
      "D 3 ahora esta dentro del bus!\n",
      "F 5 ahora esta dentro del bus!\n",
      "===Bus no ciego===\n",
      "D 5 ahora esta dentro del bus!\n",
      "E 4 ahora esta dentro del bus!\n",
      "C 1 ahora esta dentro del bus!\n",
      "F 6 ahora esta dentro del bus!\n",
      "A 3 ahora esta dentro del bus!\n",
      "A 1 ahora esta dentro del bus!\n",
      "D 4 ahora esta dentro del bus!\n",
      "C 2 ahora esta dentro del bus!\n",
      "E 4 ahora esta dentro del bus!\n",
      "E 2 ahora esta dentro del bus!\n",
      "Bus ciego va al colegio\n",
      "Oh no! ha quedado la mansaca en la mochila de  D 3\n",
      "Oh no! ha quedado la mansaca en la mochila de  D 1\n",
      "Oh no! ha quedado la mansaca en la mochila de  F 5\n",
      "Oh no! ha quedado la mansaca en la mochila de  B 2\n",
      "Oh no! ha quedado la mansaca en la mochila de  D 3\n",
      "Bus no ciego va al colegio\n",
      "Oh no! ha quedado la mansaca en la mochila de  D 5\n",
      "Oh no! ha quedado la mansaca en la mochila de  E 4\n",
      "Oh no! ha quedado la mansaca en la mochila de  A 3\n"
     ]
    }
   ],
   "source": [
    "# Nuevamente, no angustiarse\n",
    "class Escolar:\n",
    "    def __init__(self, nombre, apellido, edad, tiene_bebida_en_mochila):\n",
    "        self.nombre_completo = nombre + ' ' + apellido\n",
    "        self.tiene_bebida = tiene_bebida_en_mochila\n",
    "        self.edad = edad\n",
    "    def agitar(self):\n",
    "        if self.tiene_bebida:\n",
    "            print('Oh no! ha quedado la mansaca en la mochila de ', self)\n",
    "    def __str__(self):\n",
    "        return self.nombre_completo\n",
    "    def __repr__(self):\n",
    "        return self.nombre_completo\n",
    "\n",
    "class Chofer:\n",
    "    def __init__(self, nombre, porcentaje_vision):\n",
    "        self.nombre = nombre\n",
    "        self.porcentaje_vision = porcentaje_vision\n",
    "    def __str__(self):\n",
    "        string = self.nombre\n",
    "        if self.porcentaje_vision <= 50:\n",
    "            string += ' (medio ciego)'\n",
    "        \n",
    "class Bus:\n",
    "    def __init__(self):\n",
    "        self.chofer = None\n",
    "        self.pasajeros = []\n",
    "    def asignar_chofer(self, chofer):\n",
    "        self.chofer = chofer\n",
    "    def subir_escolar(self, escolar):\n",
    "        print(escolar, 'ahora esta dentro del bus!')\n",
    "        self.pasajeros.append(escolar)\n",
    "    def ir_a_colegio(self):\n",
    "        if self.chofer.porcentaje_vision < 50:\n",
    "            # Todos son agitados en el camino\n",
    "            for escolar in self.pasajeros:\n",
    "                escolar.agitar()\n",
    "        else:\n",
    "            # La mitad es agitada\n",
    "            for escolar in self.pasajeros[:len(self.pasajeros) //2]:\n",
    "                escolar.agitar()\n",
    "\n",
    "# Creamos dos buses\n",
    "bus_ciego = Bus()\n",
    "bus_no_ciego = Bus()\n",
    "# Creamos dos choferes y los asignamos\n",
    "\n",
    "chofer_ciego = Chofer('Benjamin', 40)\n",
    "chofer_no_ciego = Chofer('Pablo', 60)\n",
    "\n",
    "bus_ciego.asignar_chofer(chofer_ciego)\n",
    "bus_no_ciego.asignar_chofer(chofer_no_ciego)\n",
    "\n",
    "nombres = ['A', 'B', 'C', 'D', 'E', 'F']\n",
    "apellidos = ['1', '2', '3', '4', '5', '6']\n",
    "\n",
    "# Creamos 10 escolares por bus y los subimos\n",
    "import random # Ignorar si no lo conocen\n",
    "\n",
    "print('===Bus ciego===')\n",
    "for _ in range(10): # El _ se usa cuando no me interesa el i.\n",
    "    # Nombre aleatorio, apellido aleatorio, edad aleatoria entre 1 y 18, y aleatorio si tiene bebida o no\n",
    "    escolar = Escolar(random.choice(nombres), random.choice(apellidos), random.randint(1, 18), random.choice([True, False]))\n",
    "    bus_ciego.subir_escolar(escolar)\n",
    "print('===Bus no ciego===')\n",
    "for _ in range(10):\n",
    "    escolar = Escolar(random.choice(nombres), random.choice(apellidos), random.randint(1, 18), random.choice([True, False]))\n",
    "    bus_no_ciego.subir_escolar(escolar)\n",
    "\n",
    "print('Bus ciego va al colegio')\n",
    "bus_ciego.ir_a_colegio()\n",
    "\n",
    "print('Bus no ciego va al colegio')\n",
    "bus_no_ciego.ir_a_colegio()    \n",
    "    "
   ]
  },
  {
   "cell_type": "markdown",
   "metadata": {},
   "source": [
    "Ok, harto paso harto aca arriba, veamos.\n",
    "- `Escolar` tiene un nombre_completo como apellido, y puede o no tener una bebida en su mochila. Si tiene una bebida, y el bus se agita en su asiento, su mochila se mancha.\n",
    "- `Chofer` tiene nombre y un porcentaje de vision, si el porcentaje es menor a 50, se considera ciego.\n",
    "- `Bus` tiene un solo chofer, y varios pasajeros, si el chofer es ciego, al ir al colegio, todos los puestos se agitan, sino, la mitad de los `escolares` se agitan.\n"
   ]
  },
  {
   "cell_type": "markdown",
   "metadata": {},
   "source": [
    "Ahora, que son esas cosas extrañas que aparecen con `__algo__`?'\n",
    "Esos son los que se conocen como métodos _dunder_. Estos métodos son métodos mágicos que tiene python, y se ejecutan solos cuando ocurren ciertas cosas en el código:\n",
    "\n",
    "- **`__str__(self)`**\n",
    "\n",
    "Se llama cuando se necesita la versión string de una instancia de una clase (objeto). Por ejemplo:"
   ]
  },
  {
   "cell_type": "code",
   "execution_count": 5,
   "metadata": {},
   "outputs": [
    {
     "name": "stdout",
     "output_type": "stream",
     "text": [
      "D 3\n",
      "D 3 con otra cosa separada por espacios\n",
      "D 3STRING\n",
      "escolar D 3 formateado\n"
     ]
    }
   ],
   "source": [
    "escolar_prueba = bus_ciego.pasajeros[0]\n",
    "print(escolar_prueba)\n",
    "print(escolar_prueba, 'con otra cosa separada por espacios')\n",
    "print(str(escolar_prueba) + 'STRING')\n",
    "print('escolar {} formateado'.format(escolar_prueba))"
   ]
  },
  {
   "cell_type": "markdown",
   "metadata": {},
   "source": [
    "- **`__repr__(self)`**\n",
    "\n",
    "Se llama en dos ocaciones:\n",
    " 1. Cuando se quiere la verisón string del objeto, y no se tiene el `__str__`\n",
    " 2. Cuando se imprime una lista con objetos de este tipo\n",
    "Veamos el segundo caso, dado que el primero ya fue mostrado."
   ]
  },
  {
   "cell_type": "code",
   "execution_count": 6,
   "metadata": {},
   "outputs": [
    {
     "name": "stdout",
     "output_type": "stream",
     "text": [
      "[D 5, E 4, C 1, F 6, A 3, A 1, D 4, C 2, E 4, E 2]\n"
     ]
    }
   ],
   "source": [
    "print(bus_no_ciego.pasajeros)"
   ]
  },
  {
   "cell_type": "markdown",
   "metadata": {},
   "source": [
    "Ambas anteriores **deben retornar un str**\n",
    "- **`__add__(self, other)`**\n",
    "\n",
    "Se llama buando se hace instancia1 + instancia2. Ejemplo : `nuevo_escolar = escolar1 + escolar2`. Ahora bien, eso no resultaria ahora dado que no está definido (porque no tiene sentido tampoco)\n",
    "\n",
    "Lo que retorna add no esta definido, pero **se espera** que retorne una nueva instancia de la misma clase."
   ]
  },
  {
   "cell_type": "code",
   "execution_count": 11,
   "metadata": {},
   "outputs": [],
   "source": [
    "class VectorR2:\n",
    "    def __init__(self, x, y):\n",
    "        self.x = x\n",
    "        self.y = y\n",
    "    def __add__(self, other):\n",
    "        return VectorR2(self.x + other.x, self.y + other.y)\n",
    "vector1 = VectorR2(1,1)\n",
    "vector2 = VectorR2(1,2)\n",
    "vector3 = vector1 + vector2 # Aqui se llama add del vector1 con other=vector2!"
   ]
  },
  {
   "cell_type": "markdown",
   "metadata": {},
   "source": [
    "- **`__lt__(self, other)`**\n",
    "\n",
    "Se llama cuando se hace instancia1 < instancia2.\n",
    "\n",
    "- **`__eq__(self, other)`**\n",
    "\n",
    "Se llama cuando se hace instancia1 == instancia2.\n",
    "\n",
    "Ambos deben retornar un _boolean_ (`True`, `False`)."
   ]
  },
  {
   "cell_type": "code",
   "execution_count": 10,
   "metadata": {},
   "outputs": [
    {
     "name": "stdout",
     "output_type": "stream",
     "text": [
      "True\n",
      "False\n"
     ]
    }
   ],
   "source": [
    "class VectorR2:\n",
    "    def __init__(self, x, y):\n",
    "        self.x = x\n",
    "        self.y = y\n",
    "    def __add__(self, other):\n",
    "        return VectorR2(self.x + other.x, self.y + other.y)\n",
    "    \n",
    "    def __lt__(self, other):\n",
    "        norma1 = (self.x**2 +self.y**2)**0.5\n",
    "        norma2 = (other.x**2 + other.y**2)**0.5\n",
    "        return norma1 < norma2\n",
    "    def __eq__(self, other):\n",
    "        return self.x == other.x and self.y == other.y\n",
    "vector1 = VectorR2(1,1)\n",
    "vector2 = VectorR2(1,2)\n",
    "vector3 = vector1 + vector2 # Aqui se llama add del vector1 con other=vector2!\n",
    "print(vector1 < vector2) # aqui other=vector2\n",
    "print(vector1 == vector2) # other=vector2"
   ]
  },
  {
   "cell_type": "code",
   "execution_count": null,
   "metadata": {},
   "outputs": [],
   "source": []
  }
 ],
 "metadata": {
  "kernelspec": {
   "display_name": "Python 3",
   "language": "python",
   "name": "python3"
  },
  "language_info": {
   "codemirror_mode": {
    "name": "ipython",
    "version": 3
   },
   "file_extension": ".py",
   "mimetype": "text/x-python",
   "name": "python",
   "nbconvert_exporter": "python",
   "pygments_lexer": "ipython3",
   "version": "3.6.5"
  }
 },
 "nbformat": 4,
 "nbformat_minor": 2
}
